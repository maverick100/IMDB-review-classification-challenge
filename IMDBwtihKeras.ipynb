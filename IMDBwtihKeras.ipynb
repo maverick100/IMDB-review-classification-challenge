{
  "nbformat": 4,
  "nbformat_minor": 0,
  "metadata": {
    "colab": {
      "name": "IMDBwtihKeras.ipynb",
      "version": "0.3.2",
      "provenance": [],
      "collapsed_sections": [],
      "include_colab_link": true
    },
    "kernelspec": {
      "name": "python3",
      "display_name": "Python 3"
    }
  },
  "cells": [
    {
      "cell_type": "markdown",
      "metadata": {
        "id": "view-in-github",
        "colab_type": "text"
      },
      "source": [
        "<a href=\"https://colab.research.google.com/github/maverick100/kaggle_kernels/blob/master/IMDBwtihKeras.ipynb\" target=\"_parent\"><img src=\"https://colab.research.google.com/assets/colab-badge.svg\" alt=\"Open In Colab\"/></a>"
      ]
    },
    {
      "metadata": {
        "id": "jk2IJMfSLHSG",
        "colab_type": "code",
        "outputId": "175abf1d-e867-441d-f75e-a20f21e01eb4",
        "colab": {
          "base_uri": "https://localhost:8080/",
          "height": 34
        }
      },
      "cell_type": "code",
      "source": [
        "from keras.datasets import imdb\n",
        "import numpy as np\n",
        "from keras import models,layers\n",
        "\n"
      ],
      "execution_count": 2,
      "outputs": [
        {
          "output_type": "stream",
          "text": [
            "Using TensorFlow backend.\n"
          ],
          "name": "stderr"
        }
      ]
    },
    {
      "metadata": {
        "id": "YvHUKsHksMdI",
        "colab_type": "text"
      },
      "cell_type": "markdown",
      "source": [
        "**Loading IMDB dataset **"
      ]
    },
    {
      "metadata": {
        "id": "lPWTK14xMPuC",
        "colab_type": "code",
        "outputId": "49265bfa-39ae-4e77-a2b8-5ff1f637a50b",
        "colab": {
          "base_uri": "https://localhost:8080/",
          "height": 52
        }
      },
      "cell_type": "code",
      "source": [
        "(train_data,train_labels),(test_data,test_labels)=imdb.load_data(num_words=1000)"
      ],
      "execution_count": 3,
      "outputs": [
        {
          "output_type": "stream",
          "text": [
            "Downloading data from https://s3.amazonaws.com/text-datasets/imdb.npz\n",
            "17465344/17464789 [==============================] - 0s 0us/step\n"
          ],
          "name": "stdout"
        }
      ]
    },
    {
      "metadata": {
        "id": "-B_h-3Vgcfuv",
        "colab_type": "code",
        "outputId": "d797397e-71ac-4e87-d3f5-e8278474fee4",
        "colab": {
          "base_uri": "https://localhost:8080/",
          "height": 3803
        }
      },
      "cell_type": "code",
      "source": [
        "train_data[0]"
      ],
      "execution_count": 33,
      "outputs": [
        {
          "output_type": "execute_result",
          "data": {
            "text/plain": [
              "[1,\n",
              " 14,\n",
              " 22,\n",
              " 16,\n",
              " 43,\n",
              " 530,\n",
              " 973,\n",
              " 2,\n",
              " 2,\n",
              " 65,\n",
              " 458,\n",
              " 2,\n",
              " 66,\n",
              " 2,\n",
              " 4,\n",
              " 173,\n",
              " 36,\n",
              " 256,\n",
              " 5,\n",
              " 25,\n",
              " 100,\n",
              " 43,\n",
              " 838,\n",
              " 112,\n",
              " 50,\n",
              " 670,\n",
              " 2,\n",
              " 9,\n",
              " 35,\n",
              " 480,\n",
              " 284,\n",
              " 5,\n",
              " 150,\n",
              " 4,\n",
              " 172,\n",
              " 112,\n",
              " 167,\n",
              " 2,\n",
              " 336,\n",
              " 385,\n",
              " 39,\n",
              " 4,\n",
              " 172,\n",
              " 2,\n",
              " 2,\n",
              " 17,\n",
              " 546,\n",
              " 38,\n",
              " 13,\n",
              " 447,\n",
              " 4,\n",
              " 192,\n",
              " 50,\n",
              " 16,\n",
              " 6,\n",
              " 147,\n",
              " 2,\n",
              " 19,\n",
              " 14,\n",
              " 22,\n",
              " 4,\n",
              " 2,\n",
              " 2,\n",
              " 469,\n",
              " 4,\n",
              " 22,\n",
              " 71,\n",
              " 87,\n",
              " 12,\n",
              " 16,\n",
              " 43,\n",
              " 530,\n",
              " 38,\n",
              " 76,\n",
              " 15,\n",
              " 13,\n",
              " 2,\n",
              " 4,\n",
              " 22,\n",
              " 17,\n",
              " 515,\n",
              " 17,\n",
              " 12,\n",
              " 16,\n",
              " 626,\n",
              " 18,\n",
              " 2,\n",
              " 5,\n",
              " 62,\n",
              " 386,\n",
              " 12,\n",
              " 8,\n",
              " 316,\n",
              " 8,\n",
              " 106,\n",
              " 5,\n",
              " 4,\n",
              " 2,\n",
              " 2,\n",
              " 16,\n",
              " 480,\n",
              " 66,\n",
              " 2,\n",
              " 33,\n",
              " 4,\n",
              " 130,\n",
              " 12,\n",
              " 16,\n",
              " 38,\n",
              " 619,\n",
              " 5,\n",
              " 25,\n",
              " 124,\n",
              " 51,\n",
              " 36,\n",
              " 135,\n",
              " 48,\n",
              " 25,\n",
              " 2,\n",
              " 33,\n",
              " 6,\n",
              " 22,\n",
              " 12,\n",
              " 215,\n",
              " 28,\n",
              " 77,\n",
              " 52,\n",
              " 5,\n",
              " 14,\n",
              " 407,\n",
              " 16,\n",
              " 82,\n",
              " 2,\n",
              " 8,\n",
              " 4,\n",
              " 107,\n",
              " 117,\n",
              " 2,\n",
              " 15,\n",
              " 256,\n",
              " 4,\n",
              " 2,\n",
              " 7,\n",
              " 2,\n",
              " 5,\n",
              " 723,\n",
              " 36,\n",
              " 71,\n",
              " 43,\n",
              " 530,\n",
              " 476,\n",
              " 26,\n",
              " 400,\n",
              " 317,\n",
              " 46,\n",
              " 7,\n",
              " 4,\n",
              " 2,\n",
              " 2,\n",
              " 13,\n",
              " 104,\n",
              " 88,\n",
              " 4,\n",
              " 381,\n",
              " 15,\n",
              " 297,\n",
              " 98,\n",
              " 32,\n",
              " 2,\n",
              " 56,\n",
              " 26,\n",
              " 141,\n",
              " 6,\n",
              " 194,\n",
              " 2,\n",
              " 18,\n",
              " 4,\n",
              " 226,\n",
              " 22,\n",
              " 21,\n",
              " 134,\n",
              " 476,\n",
              " 26,\n",
              " 480,\n",
              " 5,\n",
              " 144,\n",
              " 30,\n",
              " 2,\n",
              " 18,\n",
              " 51,\n",
              " 36,\n",
              " 28,\n",
              " 224,\n",
              " 92,\n",
              " 25,\n",
              " 104,\n",
              " 4,\n",
              " 226,\n",
              " 65,\n",
              " 16,\n",
              " 38,\n",
              " 2,\n",
              " 88,\n",
              " 12,\n",
              " 16,\n",
              " 283,\n",
              " 5,\n",
              " 16,\n",
              " 2,\n",
              " 113,\n",
              " 103,\n",
              " 32,\n",
              " 15,\n",
              " 16,\n",
              " 2,\n",
              " 19,\n",
              " 178,\n",
              " 32]"
            ]
          },
          "metadata": {
            "tags": []
          },
          "execution_count": 33
        }
      ]
    },
    {
      "metadata": {
        "id": "d7QY_UumfrZU",
        "colab_type": "text"
      },
      "cell_type": "markdown",
      "source": [
        "## Decoding a sentence\n"
      ]
    },
    {
      "metadata": {
        "id": "JQ03Mv0Bei_D",
        "colab_type": "code",
        "outputId": "0d5b1310-167d-42e1-8264-b91f466a986c",
        "colab": {
          "base_uri": "https://localhost:8080/",
          "height": 52
        }
      },
      "cell_type": "code",
      "source": [
        "word_index=imdb.get_word_index()\n",
        "reverse_word_index=dict([(value,key) for (key,value) in word_index.items()])\n",
        "decode_review=\" \".join(reverse_word_index.get(i-3,\"?\") for i in train_data[0])"
      ],
      "execution_count": 5,
      "outputs": [
        {
          "output_type": "stream",
          "text": [
            "Downloading data from https://s3.amazonaws.com/text-datasets/imdb_word_index.json\n",
            "1646592/1641221 [==============================] - 0s 0us/step\n"
          ],
          "name": "stdout"
        }
      ]
    },
    {
      "metadata": {
        "id": "WMCOEgPzfbMz",
        "colab_type": "code",
        "outputId": "aba9904b-566b-4be5-b6b4-6aa75015785d",
        "colab": {
          "base_uri": "https://localhost:8080/",
          "height": 54
        }
      },
      "cell_type": "code",
      "source": [
        "decode_review"
      ],
      "execution_count": 6,
      "outputs": [
        {
          "output_type": "execute_result",
          "data": {
            "text/plain": [
              "\"? this film was just brilliant casting ? ? story direction ? really ? the part they played and you could just imagine being there robert ? is an amazing actor and now the same being director ? father came from the same ? ? as myself so i loved the fact there was a real ? with this film the ? ? throughout the film were great it was just brilliant so much that i ? the film as soon as it was released for ? and would recommend it to everyone to watch and the ? ? was amazing really ? at the end it was so sad and you know what they say if you ? at a film it must have been good and this definitely was also ? to the two little ? that played the ? of ? and paul they were just brilliant children are often left out of the ? ? i think because the stars that play them all ? up are such a big ? for the whole film but these children are amazing and should be ? for what they have done don't you think the whole story was so ? because it was true and was ? life after all that was ? with us all\""
            ]
          },
          "metadata": {
            "tags": []
          },
          "execution_count": 6
        }
      ]
    },
    {
      "metadata": {
        "id": "UjxgmtM3oc91",
        "colab_type": "text"
      },
      "cell_type": "markdown",
      "source": [
        "### One hot encoding"
      ]
    },
    {
      "metadata": {
        "id": "RRWHJyFbfezx",
        "colab_type": "code",
        "colab": {}
      },
      "cell_type": "code",
      "source": [
        "def vectorize(sequence,dimentions=10000):\n",
        "  results=np.zeros((len(sequence),dimentions))\n",
        "  for i,val in enumerate(sequence):\n",
        "    results[i,val]=1\n",
        "  return results\n",
        "    "
      ],
      "execution_count": 0,
      "outputs": []
    },
    {
      "metadata": {
        "id": "rNBxBsRHmzu5",
        "colab_type": "code",
        "colab": {}
      },
      "cell_type": "code",
      "source": [
        "\n",
        "x_train=vectorize(train_data)\n",
        "x_test=vectorize(test_data)"
      ],
      "execution_count": 0,
      "outputs": []
    },
    {
      "metadata": {
        "id": "hkauci-nm3ay",
        "colab_type": "code",
        "colab": {}
      },
      "cell_type": "code",
      "source": [
        "y_train=np.asarray(train_labels).astype('float32')\n",
        "y_test=np.asarray(test_labels).astype('float32')"
      ],
      "execution_count": 0,
      "outputs": []
    },
    {
      "metadata": {
        "id": "VA6tBAO6vw-j",
        "colab_type": "code",
        "outputId": "edf134dd-20f6-4082-cd89-e7191f78d163",
        "colab": {
          "base_uri": "https://localhost:8080/",
          "height": 34
        }
      },
      "cell_type": "code",
      "source": [
        "type(x_train)"
      ],
      "execution_count": 10,
      "outputs": [
        {
          "output_type": "execute_result",
          "data": {
            "text/plain": [
              "numpy.ndarray"
            ]
          },
          "metadata": {
            "tags": []
          },
          "execution_count": 10
        }
      ]
    },
    {
      "metadata": {
        "id": "39x2ajSLr-uY",
        "colab_type": "text"
      },
      "cell_type": "markdown",
      "source": [
        "**Building our model**"
      ]
    },
    {
      "metadata": {
        "id": "Vj4Ex3YFnPco",
        "colab_type": "code",
        "outputId": "88efbd39-f6dc-40f8-8dd4-acf5d89f0db2",
        "colab": {
          "base_uri": "https://localhost:8080/",
          "height": 89
        }
      },
      "cell_type": "code",
      "source": [
        "model=models.Sequential()\n",
        "model.add(layers.Dense(16,activation='relu',input_shape=(10000,)))\n",
        "model.add(layers.Dense(16,activation='relu'))\n",
        "model.add(layers.Dense(1,activation='sigmoid'))"
      ],
      "execution_count": 11,
      "outputs": [
        {
          "output_type": "stream",
          "text": [
            "WARNING:tensorflow:From /usr/local/lib/python3.6/dist-packages/tensorflow/python/framework/op_def_library.py:263: colocate_with (from tensorflow.python.framework.ops) is deprecated and will be removed in a future version.\n",
            "Instructions for updating:\n",
            "Colocations handled automatically by placer.\n"
          ],
          "name": "stdout"
        }
      ]
    },
    {
      "metadata": {
        "id": "21EdF6tusE-C",
        "colab_type": "text"
      },
      "cell_type": "markdown",
      "source": [
        "**Training our model**"
      ]
    },
    {
      "metadata": {
        "id": "naDb-YDCnPaB",
        "colab_type": "code",
        "colab": {}
      },
      "cell_type": "code",
      "source": [
        "from keras import metrics,losses,optimizers\n"
      ],
      "execution_count": 0,
      "outputs": []
    },
    {
      "metadata": {
        "id": "PMCYQKOgnPXf",
        "colab_type": "code",
        "colab": {}
      },
      "cell_type": "code",
      "source": [
        "model.compile(optimizer=optimizers.RMSprop(lr=0.0001),loss=losses.binary_crossentropy,metrics=['accuracy'])"
      ],
      "execution_count": 0,
      "outputs": []
    },
    {
      "metadata": {
        "id": "lVVbLKtfnPLf",
        "colab_type": "code",
        "colab": {}
      },
      "cell_type": "code",
      "source": [
        "x_val=x_train[:10000]\n",
        "partial_x_train=x_train[10000:]\n",
        "\n",
        "y_val=y_train[:10000]\n",
        "partial_y_train=y_train[10000:]\n"
      ],
      "execution_count": 0,
      "outputs": []
    },
    {
      "metadata": {
        "id": "zYHqwJewnO3X",
        "colab_type": "code",
        "outputId": "059be91e-61b8-4e33-be78-18564d4f0c32",
        "colab": {
          "base_uri": "https://localhost:8080/",
          "height": 801
        }
      },
      "cell_type": "code",
      "source": [
        "history=model.fit(partial_x_train,partial_y_train,epochs=20,batch_size=512,validation_data=(x_val,y_val))"
      ],
      "execution_count": 15,
      "outputs": [
        {
          "output_type": "stream",
          "text": [
            "WARNING:tensorflow:From /usr/local/lib/python3.6/dist-packages/tensorflow/python/ops/math_ops.py:3066: to_int32 (from tensorflow.python.ops.math_ops) is deprecated and will be removed in a future version.\n",
            "Instructions for updating:\n",
            "Use tf.cast instead.\n",
            "Train on 15000 samples, validate on 10000 samples\n",
            "Epoch 1/20\n",
            "15000/15000 [==============================] - 3s 178us/step - loss: 0.6837 - acc: 0.5733 - val_loss: 0.6712 - val_acc: 0.6319\n",
            "Epoch 2/20\n",
            "15000/15000 [==============================] - 2s 131us/step - loss: 0.6555 - acc: 0.6953 - val_loss: 0.6414 - val_acc: 0.7433\n",
            "Epoch 3/20\n",
            "15000/15000 [==============================] - 2s 128us/step - loss: 0.6248 - acc: 0.7586 - val_loss: 0.6122 - val_acc: 0.7777\n",
            "Epoch 4/20\n",
            "15000/15000 [==============================] - 2s 128us/step - loss: 0.5954 - acc: 0.7941 - val_loss: 0.5841 - val_acc: 0.7916\n",
            "Epoch 5/20\n",
            "15000/15000 [==============================] - 2s 127us/step - loss: 0.5663 - acc: 0.8081 - val_loss: 0.5567 - val_acc: 0.8106\n",
            "Epoch 6/20\n",
            "15000/15000 [==============================] - 2s 128us/step - loss: 0.5390 - acc: 0.8181 - val_loss: 0.5318 - val_acc: 0.8148\n",
            "Epoch 7/20\n",
            "15000/15000 [==============================] - 2s 128us/step - loss: 0.5135 - acc: 0.8266 - val_loss: 0.5077 - val_acc: 0.8238\n",
            "Epoch 8/20\n",
            "15000/15000 [==============================] - 2s 129us/step - loss: 0.4900 - acc: 0.8348 - val_loss: 0.4863 - val_acc: 0.8282\n",
            "Epoch 9/20\n",
            "15000/15000 [==============================] - 2s 127us/step - loss: 0.4688 - acc: 0.8407 - val_loss: 0.4677 - val_acc: 0.8306\n",
            "Epoch 10/20\n",
            "15000/15000 [==============================] - 2s 129us/step - loss: 0.4495 - acc: 0.8445 - val_loss: 0.4498 - val_acc: 0.8360\n",
            "Epoch 11/20\n",
            "15000/15000 [==============================] - 2s 129us/step - loss: 0.4322 - acc: 0.8495 - val_loss: 0.4349 - val_acc: 0.8370\n",
            "Epoch 12/20\n",
            "15000/15000 [==============================] - 2s 127us/step - loss: 0.4169 - acc: 0.8514 - val_loss: 0.4217 - val_acc: 0.8429\n",
            "Epoch 13/20\n",
            "15000/15000 [==============================] - 2s 131us/step - loss: 0.4032 - acc: 0.8537 - val_loss: 0.4092 - val_acc: 0.8435\n",
            "Epoch 14/20\n",
            "15000/15000 [==============================] - 2s 131us/step - loss: 0.3908 - acc: 0.8565 - val_loss: 0.3986 - val_acc: 0.8446\n",
            "Epoch 15/20\n",
            "15000/15000 [==============================] - 2s 129us/step - loss: 0.3798 - acc: 0.8589 - val_loss: 0.3889 - val_acc: 0.8477\n",
            "Epoch 16/20\n",
            "15000/15000 [==============================] - 2s 129us/step - loss: 0.3701 - acc: 0.8613 - val_loss: 0.3822 - val_acc: 0.8474\n",
            "Epoch 17/20\n",
            "15000/15000 [==============================] - 2s 128us/step - loss: 0.3617 - acc: 0.8625 - val_loss: 0.3740 - val_acc: 0.8505\n",
            "Epoch 18/20\n",
            "15000/15000 [==============================] - 2s 129us/step - loss: 0.3538 - acc: 0.8649 - val_loss: 0.3677 - val_acc: 0.8515\n",
            "Epoch 19/20\n",
            "15000/15000 [==============================] - 2s 129us/step - loss: 0.3470 - acc: 0.8666 - val_loss: 0.3623 - val_acc: 0.8523\n",
            "Epoch 20/20\n",
            "15000/15000 [==============================] - 2s 126us/step - loss: 0.3407 - acc: 0.8667 - val_loss: 0.3574 - val_acc: 0.8533\n"
          ],
          "name": "stdout"
        }
      ]
    },
    {
      "metadata": {
        "id": "ZOzPlDLYr1Fg",
        "colab_type": "text"
      },
      "cell_type": "markdown",
      "source": [
        "**Evaluation of model**"
      ]
    },
    {
      "metadata": {
        "id": "_owd8ujsuhD3",
        "colab_type": "code",
        "colab": {}
      },
      "cell_type": "code",
      "source": [
        "import matplotlib.pyplot as plt\n"
      ],
      "execution_count": 0,
      "outputs": []
    },
    {
      "metadata": {
        "id": "v1jnEGWamlQ0",
        "colab_type": "code",
        "colab": {
          "base_uri": "https://localhost:8080/",
          "height": 349
        },
        "outputId": "438104c0-0d0d-4f47-e70a-7172e7a9c378"
      },
      "cell_type": "code",
      "source": [
        "plt.figure(figsize=(10,5))\n",
        "acc=history.history['acc']\n",
        "val_acc=history.history['val_acc']\n",
        "\n",
        "loss=history.history['loss']\n",
        "val_loss=history.history['val_loss']\n",
        "\n",
        "epochs=range(1,len(acc)+1)\n",
        "plt.subplot(1,2,1)\n",
        "plt.plot(epochs,acc,label=\"Training accuracy\")\n",
        "plt.scatter(epochs,val_acc,label=\"validation accuracy\")\n",
        "plt.xlabel(\"Epochs\")\n",
        "plt.ylabel(\"accuracy\")\n",
        "plt.legend()\n",
        "\n",
        "plt.subplot(1,2,2)\n",
        "plt.plot(epochs,loss,label=\"Training loss\")\n",
        "plt.scatter(epochs,val_loss,label=\"validation loss\")\n",
        "plt.xlabel(\"Epochs\")\n",
        "plt.ylabel(\"loss\")\n",
        "plt.legend()\n",
        "plt.title(\"Evaluation\")\n",
        "\n",
        "plt.show()\n"
      ],
      "execution_count": 31,
      "outputs": [
        {
          "output_type": "display_data",
          "data": {
            "image/png": "[encoded data removed]",
            "text/plain": [
              "<Figure size 720x360 with 2 Axes>"
            ]
          },
          "metadata": {
            "tags": []
          }
        }
      ]
    },
    {
      "metadata": {
        "id": "fqVuRdcLoPxH",
        "colab_type": "code",
        "colab": {}
      },
      "cell_type": "code",
      "source": [
        ""
      ],
      "execution_count": 0,
      "outputs": []
    }
  ]
}